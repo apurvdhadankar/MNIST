{
 "cells": [
  {
   "cell_type": "markdown",
   "metadata": {},
   "source": [
    "## Fetching Data"
   ]
  },
  {
   "cell_type": "code",
   "execution_count": 1,
   "metadata": {},
   "outputs": [],
   "source": [
    "from sklearn.datasets import fetch_openml"
   ]
  },
  {
   "cell_type": "code",
   "execution_count": 18,
   "metadata": {},
   "outputs": [],
   "source": [
    "mnist = fetch_openml('mnist_784')"
   ]
  },
  {
   "cell_type": "code",
   "execution_count": 3,
   "metadata": {},
   "outputs": [],
   "source": [
    "#mnist"
   ]
  },
  {
   "cell_type": "code",
   "execution_count": 30,
   "metadata": {},
   "outputs": [],
   "source": [
    "x, y = mnist['data'], mnist['target']"
   ]
  },
  {
   "cell_type": "code",
   "execution_count": 31,
   "metadata": {},
   "outputs": [
    {
     "data": {
      "text/plain": [
       "(70000, 784)"
      ]
     },
     "execution_count": 31,
     "metadata": {},
     "output_type": "execute_result"
    }
   ],
   "source": [
    "x.shape"
   ]
  },
  {
   "cell_type": "code",
   "execution_count": 32,
   "metadata": {},
   "outputs": [
    {
     "data": {
      "text/plain": [
       "(70000,)"
      ]
     },
     "execution_count": 32,
     "metadata": {},
     "output_type": "execute_result"
    }
   ],
   "source": [
    "y.shape"
   ]
  },
  {
   "cell_type": "code",
   "execution_count": 33,
   "metadata": {},
   "outputs": [],
   "source": [
    "%matplotlib inline"
   ]
  },
  {
   "cell_type": "code",
   "execution_count": 34,
   "metadata": {},
   "outputs": [],
   "source": [
    "import matplotlib\n",
    "import matplotlib.pyplot as plt"
   ]
  },
  {
   "cell_type": "code",
   "execution_count": 95,
   "metadata": {},
   "outputs": [],
   "source": [
    "some_digits = x[36001]\n",
    "some_digits_image = some_digits.reshape(28, 28) #reshape and plot it"
   ]
  },
  {
   "cell_type": "code",
   "execution_count": 96,
   "metadata": {},
   "outputs": [
    {
     "data": {
      "text/plain": [
       "(-0.5, 27.5, 27.5, -0.5)"
      ]
     },
     "execution_count": 96,
     "metadata": {},
     "output_type": "execute_result"
    },
    {
     "data": {
      "image/png": "[encoded data removed]",
      "text/plain": [
       "<Figure size 432x288 with 1 Axes>"
      ]
     },
     "metadata": {
      "needs_background": "light"
     },
     "output_type": "display_data"
    }
   ],
   "source": [
    "plt.imshow(some_digits_image, cmap=matplotlib.cm.binary, interpolation=\"nearest\")\n",
    "plt.axis(\"off\")"
   ]
  },
  {
   "cell_type": "code",
   "execution_count": 97,
   "metadata": {},
   "outputs": [
    {
     "data": {
      "text/plain": [
       "'2'"
      ]
     },
     "execution_count": 97,
     "metadata": {},
     "output_type": "execute_result"
    }
   ],
   "source": [
    "y[36001]"
   ]
  },
  {
   "cell_type": "code",
   "execution_count": 98,
   "metadata": {},
   "outputs": [],
   "source": [
    "x_train, x_test = x[:60000], x[60000:]"
   ]
  },
  {
   "cell_type": "code",
   "execution_count": 99,
   "metadata": {},
   "outputs": [],
   "source": [
    "y_train, y_test = y[:60000], y[60000]"
   ]
  },
  {
   "cell_type": "code",
   "execution_count": 100,
   "metadata": {},
   "outputs": [],
   "source": [
    "import numpy as np\n",
    "shuffle_index = np.random.permutation(60000)\n",
    "x_train, y_train = x_train[shuffle_index], y_train[shuffle_index]"
   ]
  },
  {
   "cell_type": "markdown",
   "metadata": {},
   "source": [
    "## Creating a 2 Detector"
   ]
  },
  {
   "cell_type": "code",
   "execution_count": 101,
   "metadata": {},
   "outputs": [],
   "source": [
    "y_train = y_train.astype(np.int8)\n",
    "y_test = y_test.astype(np.int8)\n",
    "y_train_2 = (y_train==2)\n",
    "y_test_2 = (y_test==2)"
   ]
  },
  {
   "cell_type": "code",
   "execution_count": 102,
   "metadata": {},
   "outputs": [
    {
     "data": {
      "text/plain": [
       "array([6, 0, 1, 1, 5, 2, 8, 3, 0, 4, 9, 5, 2, 6, 7, 7, 3, 8, 5, 9, 1, 1,\n",
       "       8, 0, 6, 4, 5, 5, 4, 6, 8, 6, 3, 3, 0, 4, 9, 4, 2, 2, 3, 8, 9, 1,\n",
       "       2, 0, 7, 6, 3, 4, 7, 9, 1, 7, 7, 2, 2, 3, 4, 3, 2, 9, 1, 2, 7, 0,\n",
       "       8, 9, 5, 3, 1, 3, 8, 9, 9, 1, 0, 5, 9, 2, 2, 3, 1, 1, 9, 6, 5, 7,\n",
       "       7, 3, 6, 7, 9, 8, 0, 4, 5, 0, 3, 2, 9, 4, 6, 0, 1, 2, 3, 4, 1, 7,\n",
       "       1, 8, 5, 0, 2, 7, 1, 0, 3, 6, 4, 9, 1, 3, 2, 2, 2, 4, 4, 8, 7, 6,\n",
       "       7, 0, 7, 1, 8, 0, 2, 6, 7, 7, 1, 2, 2, 9, 0, 7, 3, 9, 6, 5, 8, 8,\n",
       "       4, 9, 9, 6, 8, 6, 4, 2, 9, 8, 9, 1, 9, 7, 2, 5, 3, 5, 2, 7, 9, 3,\n",
       "       7, 5, 6, 0, 5, 1, 3, 1, 4, 3, 1, 8, 5, 4, 2, 9, 1, 4, 6, 5, 8, 1,\n",
       "       5, 8, 5, 6, 7, 8, 2, 9, 1, 0, 1, 1, 4, 2, 2, 3, 8, 4, 3, 5, 4, 6,\n",
       "       4, 7, 2, 8, 7, 9, 1, 0, 0, 1, 3, 2, 1, 3, 9, 4, 6, 5, 9, 6, 8, 7,\n",
       "       8, 8, 1, 0, 6, 1, 7, 2, 7, 3, 2, 4, 1, 5, 4, 6, 4, 7, 4, 8, 1, 9,\n",
       "       5, 6, 6, 6, 4, 3, 2, 4, 9, 2, 5, 8, 5, 1, 7, 0, 7, 6, 3, 4, 8, 9,\n",
       "       3, 7, 8, 2, 5, 3, 0, 3, 9, 9, 0, 3, 3, 3, 5, 9, 0, 1, 7, 5, 9, 2,\n",
       "       4, 3, 9, 1, 4, 6, 4, 7, 0, 3, 1, 7, 0, 8, 8, 4, 5, 0, 0, 2, 1, 4,\n",
       "       0, 0, 0, 7, 9, 8, 4, 0, 6, 7, 3, 0, 3, 6, 2, 9, 5, 3, 2, 2, 3, 4,\n",
       "       5, 8, 8, 6, 1, 0, 7, 5, 2, 7, 3, 5, 8, 1, 1, 0, 9, 8, 5, 1, 1, 6,\n",
       "       5, 7, 9, 2, 7, 9, 1, 7, 9, 9, 1, 5, 2, 6, 6, 5, 8, 2, 6, 6, 0, 1,\n",
       "       6, 7, 3, 5, 0, 5, 6, 7, 8, 3, 0, 5, 1, 0, 3, 1, 5, 1, 2, 3, 3, 8,\n",
       "       5, 1, 3, 0, 0, 1, 4, 2, 5, 3, 3, 4, 3, 5, 7, 6, 5, 7, 1, 8, 9, 9,\n",
       "       3, 0, 2, 1, 0, 2, 0, 3, 4, 4, 3, 5, 6, 6, 4, 7, 6, 8, 1, 9, 9, 0,\n",
       "       4, 1, 6, 2, 2, 3, 0, 4, 8, 5, 5, 6, 6, 7, 7, 8, 2, 9, 2, 7, 6, 4,\n",
       "       4, 7, 6, 7, 1, 3, 4, 9, 2, 8, 2, 8, 0, 3, 8, 1, 3, 5, 0, 8, 5, 2,\n",
       "       8, 7, 8, 6, 7, 1, 8, 5, 9, 2, 3, 6, 9, 4, 9, 1, 3, 8, 5, 7, 6, 5,\n",
       "       7, 5, 1, 1, 4, 8, 8, 9, 4, 1, 0, 3, 2, 6, 9, 3, 8, 3, 4, 2, 6, 2,\n",
       "       7, 6, 4, 6, 1, 5, 4, 5, 1, 3, 4, 3, 6, 8, 9, 1, 7, 6, 1, 5, 1, 6,\n",
       "       6, 8, 6, 1, 3, 9, 6, 7, 8, 6, 8, 8, 3, 3, 1, 7, 9, 9, 7, 0, 3, 0,\n",
       "       3, 3, 4, 7, 4, 9, 7, 3, 6, 0, 8, 2, 8, 0, 4, 1, 5, 0, 3, 1, 0, 0,\n",
       "       7, 1, 8, 0, 8, 4, 8, 7, 2, 9, 2, 2, 2, 0, 0, 6, 3, 2, 9, 6, 5, 2,\n",
       "       6, 2, 1, 9, 2, 9, 5, 0, 5, 1, 0, 2, 7, 3, 4, 4, 1, 5, 4, 6, 3, 8,\n",
       "       5, 9, 3, 0, 5, 1, 7, 3, 9, 4, 6, 5, 4, 6, 4, 7, 0, 8, 1, 9, 5, 0,\n",
       "       1, 1, 0, 2, 7, 3, 7, 4, 6, 5, 6, 6, 9, 7, 7, 8, 1, 9, 0, 1, 1, 8,\n",
       "       0, 6, 3, 7, 0, 1, 3, 3, 5, 7, 4, 7, 4, 9, 1, 3, 6, 6, 7, 0, 4, 2,\n",
       "       6, 6, 8, 4, 0, 8, 6, 4, 9, 5, 1, 0, 0, 3, 7, 9, 6, 2, 8, 1, 8, 1,\n",
       "       1, 5, 3, 9, 7, 4, 3, 2, 7, 0, 0, 4, 8, 4, 3, 0, 2, 9, 3, 6, 0, 9,\n",
       "       7, 2, 5, 2, 8, 1, 5, 7, 4, 9, 2, 5, 5, 1, 3, 1, 5, 9, 8, 6, 9, 0,\n",
       "       8, 1, 4, 8, 6, 4, 4, 6, 6, 8, 0, 8, 4, 2, 8, 6, 8, 3, 4, 2, 4, 9,\n",
       "       8, 2, 8, 4, 7, 0, 9, 9, 1, 0, 7, 3, 3, 3, 6, 5, 5, 8, 0, 4, 1, 7,\n",
       "       5, 6, 9, 2, 5, 2, 9, 7, 3, 7, 2, 0, 5, 5, 9, 1, 5, 5, 6, 3, 3, 0,\n",
       "       3, 1, 2, 2, 7, 3, 1, 4, 7, 5, 5, 6, 1, 7, 9, 8, 6, 0, 6, 1, 7, 4,\n",
       "       1, 7, 7, 0, 5, 1, 9, 4, 5, 7, 4, 8, 3, 9, 3, 6, 8, 8, 3, 2, 1, 4,\n",
       "       7, 6, 3, 8, 3, 6, 7, 6, 2, 7, 3, 1, 7, 7, 8, 0, 9, 2, 3, 2, 9, 0,\n",
       "       8, 1, 1, 6, 0, 5, 6, 1, 7, 2, 9, 0, 5, 2, 8, 3, 8, 4, 8, 8, 2, 3,\n",
       "       1, 7, 2, 4, 9, 1, 8, 7, 6, 4, 7, 8, 0, 3, 0, 9, 8, 6, 9, 7, 3, 0,\n",
       "       0, 9, 0, 6, 0, 0, 2, 6, 8, 1, 5, 0, 5, 5, 6, 5, 5, 1, 7, 0, 5, 1,\n",
       "       4, 0, 2, 9, 8, 4, 4, 5, 1, 9], dtype=int8)"
      ]
     },
     "execution_count": 102,
     "metadata": {},
     "output_type": "execute_result"
    }
   ],
   "source": [
    "y_test"
   ]
  },
  {
   "cell_type": "code",
   "execution_count": 103,
   "metadata": {},
   "outputs": [],
   "source": [
    "from sklearn.linear_model import LogisticRegression"
   ]
  },
  {
   "cell_type": "code",
   "execution_count": 104,
   "metadata": {},
   "outputs": [],
   "source": [
    "clf = LogisticRegression(tol = 0.1, solver='lbfgs')   #Create classifier"
   ]
  },
  {
   "cell_type": "code",
   "execution_count": 105,
   "metadata": {},
   "outputs": [
    {
     "name": "stderr",
     "output_type": "stream",
     "text": [
      "c:\\users\\apu\\appdata\\local\\programs\\python\\python38\\lib\\site-packages\\sklearn\\linear_model\\_logistic.py:762: ConvergenceWarning: lbfgs failed to converge (status=1):\n",
      "STOP: TOTAL NO. of ITERATIONS REACHED LIMIT.\n",
      "\n",
      "Increase the number of iterations (max_iter) or scale the data as shown in:\n",
      "    https://scikit-learn.org/stable/modules/preprocessing.html\n",
      "Please also refer to the documentation for alternative solver options:\n",
      "    https://scikit-learn.org/stable/modules/linear_model.html#logistic-regression\n",
      "  n_iter_i = _check_optimize_result(\n"
     ]
    },
    {
     "data": {
      "text/plain": [
       "LogisticRegression(tol=0.1)"
      ]
     },
     "execution_count": 105,
     "metadata": {},
     "output_type": "execute_result"
    }
   ],
   "source": [
    "clf.fit(x_train, y_train_2)"
   ]
  },
  {
   "cell_type": "code",
   "execution_count": 106,
   "metadata": {},
   "outputs": [
    {
     "data": {
      "text/plain": [
       "array([ True])"
      ]
     },
     "execution_count": 106,
     "metadata": {},
     "output_type": "execute_result"
    }
   ],
   "source": [
    "clf.predict([some_digits])"
   ]
  },
  {
   "cell_type": "code",
   "execution_count": 107,
   "metadata": {},
   "outputs": [
    {
     "name": "stderr",
     "output_type": "stream",
     "text": [
      "c:\\users\\apu\\appdata\\local\\programs\\python\\python38\\lib\\site-packages\\sklearn\\linear_model\\_logistic.py:762: ConvergenceWarning: lbfgs failed to converge (status=1):\n",
      "STOP: TOTAL NO. of ITERATIONS REACHED LIMIT.\n",
      "\n",
      "Increase the number of iterations (max_iter) or scale the data as shown in:\n",
      "    https://scikit-learn.org/stable/modules/preprocessing.html\n",
      "Please also refer to the documentation for alternative solver options:\n",
      "    https://scikit-learn.org/stable/modules/linear_model.html#logistic-regression\n",
      "  n_iter_i = _check_optimize_result(\n",
      "c:\\users\\apu\\appdata\\local\\programs\\python\\python38\\lib\\site-packages\\sklearn\\linear_model\\_logistic.py:762: ConvergenceWarning: lbfgs failed to converge (status=1):\n",
      "STOP: TOTAL NO. of ITERATIONS REACHED LIMIT.\n",
      "\n",
      "Increase the number of iterations (max_iter) or scale the data as shown in:\n",
      "    https://scikit-learn.org/stable/modules/preprocessing.html\n",
      "Please also refer to the documentation for alternative solver options:\n",
      "    https://scikit-learn.org/stable/modules/linear_model.html#logistic-regression\n",
      "  n_iter_i = _check_optimize_result(\n",
      "c:\\users\\apu\\appdata\\local\\programs\\python\\python38\\lib\\site-packages\\sklearn\\linear_model\\_logistic.py:762: ConvergenceWarning: lbfgs failed to converge (status=1):\n",
      "STOP: TOTAL NO. of ITERATIONS REACHED LIMIT.\n",
      "\n",
      "Increase the number of iterations (max_iter) or scale the data as shown in:\n",
      "    https://scikit-learn.org/stable/modules/preprocessing.html\n",
      "Please also refer to the documentation for alternative solver options:\n",
      "    https://scikit-learn.org/stable/modules/linear_model.html#logistic-regression\n",
      "  n_iter_i = _check_optimize_result(\n"
     ]
    }
   ],
   "source": [
    "from sklearn.model_selection import cross_val_score\n",
    "a = cross_val_score(clf, x_train, y_train, cv=3, scoring=\"accuracy\")"
   ]
  },
  {
   "cell_type": "code",
   "execution_count": 108,
   "metadata": {},
   "outputs": [
    {
     "data": {
      "text/plain": [
       "0.8825"
      ]
     },
     "execution_count": 108,
     "metadata": {},
     "output_type": "execute_result"
    }
   ],
   "source": [
    "a.mean()"
   ]
  },
  {
   "cell_type": "code",
   "execution_count": null,
   "metadata": {},
   "outputs": [],
   "source": []
  }
 ],
 "metadata": {
  "kernelspec": {
   "display_name": "Python 3",
   "language": "python",
   "name": "python3"
  },
  "language_info": {
   "codemirror_mode": {
    "name": "ipython",
    "version": 3
   },
   "file_extension": ".py",
   "mimetype": "text/x-python",
   "name": "python",
   "nbconvert_exporter": "python",
   "pygments_lexer": "ipython3",
   "version": "3.8.3"
  }
 },
 "nbformat": 4,
 "nbformat_minor": 4
}
